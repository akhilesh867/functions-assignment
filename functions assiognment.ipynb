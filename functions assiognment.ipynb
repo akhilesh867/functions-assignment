{
 "cells": [
  {
   "cell_type": "raw",
   "id": "516dea18-a1c4-4a70-a351-02b2d89c3a35",
   "metadata": {},
   "source": [
    "THEORY QUESTIONS"
   ]
  },
  {
   "cell_type": "code",
   "execution_count": 4,
   "id": "d044e3a1-5f68-437c-8680-d02bc2be10ca",
   "metadata": {},
   "outputs": [
    {
     "name": "stdout",
     "output_type": "stream",
     "text": [
      "Hello Kenji\n",
      "[1, 2, 3, 4]\n",
      "8\n",
      "16\n",
      "16\n",
      "15\n",
      "1\n",
      "2\n",
      "1\n",
      "2\n",
      "3\n",
      "7\n",
      "[1, 4, 9]\n",
      "[2, 4, 6, 8]\n",
      "[2, 4]\n",
      "10\n"
     ]
    }
   ],
   "source": [
    "\"\"\"\n",
    "1. What is the difference between a function and a method in Python?\n",
    "Function: A block of reusable code defined using def, not necessarily tied to an object.\n",
    "Method: A function that is associated with an object and is called on that object (usually inside a class).\n",
    "Example:\n",
    "\"\"\"\n",
    "# Function\n",
    "def greet(name):\n",
    "    return \"Hello \" + name\n",
    "\n",
    "print(greet(\"Kenji\"))\n",
    "\n",
    "# Method\n",
    "my_list = [1, 2, 3]\n",
    "my_list.append(4)  # append() is a method\n",
    "print(my_list)\n",
    "\"\"\"\n",
    "2. Explain the concept of function arguments and parameters in Python.\n",
    "Parameters are variables listed in the function definition.\n",
    "Arguments are values passed to the function when it is called.\n",
    "Example:\n",
    "\"\"\"\n",
    "def add(a, b):  # a and b are parameters\n",
    "    return a + b\n",
    "\n",
    "result = add(3, 5)  # 3 and 5 are arguments\n",
    "print(result)\n",
    "\"\"\"\n",
    "3. What are the different ways to define and call a function in Python?\n",
    "Ways to define:\n",
    "\n",
    "Using def\n",
    "Using lambda (anonymous function)\n",
    "Ways to call:\n",
    "\n",
    "Directly by name with parentheses\n",
    "Via function reference (like passing it to another function)\n",
    "Example:\n",
    "\"\"\"\n",
    "# Using def\n",
    "def square(x):\n",
    "    return x * x\n",
    "\n",
    "print(square(4))\n",
    "\n",
    "# Using lambda\n",
    "square_lambda = lambda x: x * x\n",
    "print(square_lambda(4))\n",
    "\"\"\"\n",
    "4. What is the purpose of the return statement in a Python function?\n",
    "It is used to send back a result from a function to the caller.\n",
    "\n",
    "Example:\n",
    "\"\"\"\n",
    "def multiply(x, y):\n",
    "    return x * y\n",
    "\n",
    "product = multiply(3, 5)\n",
    "print(product)\n",
    "\"\"\"\n",
    "5. What are iterators in Python and how do they differ from iterables?\n",
    "Iterable: An object that can be looped over (e.g., list, tuple, string).\n",
    "Iterator: An object that produces items one at a time using __next__().\n",
    "Example:\n",
    "\"\"\"\n",
    "nums = [1, 2, 3]  # Iterable\n",
    "it = iter(nums)   # Iterator\n",
    "\n",
    "print(next(it))\n",
    "print(next(it))\n",
    "\"\"\"\n",
    "6. Explain the concept of generators in Python and how they are defined.\n",
    "Generators are a type of iterator defined using a function with the yield keyword. They yield items one at a time and don't store the whole sequence in memory.\n",
    "\n",
    "Example:\n",
    "\"\"\"\n",
    "def count_up_to(n):\n",
    "    i = 1\n",
    "    while i <= n:\n",
    "        yield i\n",
    "        i += 1\n",
    "\n",
    "for num in count_up_to(3):\n",
    "    print(num)\n",
    "\"\"\"\n",
    "7. What are the advantages of using generators over regular functions?\n",
    "Memory-efficient (no need to store the whole list)\n",
    "Suitable for large data streams\n",
    "Lazy evaluation (produces items only when needed)\n",
    "\"\"\"\n",
    "\"\"\"\n",
    "8. What is a lambda function in Python and when is it typically used?\n",
    "Lambda is an anonymous function used for short operations, usually when passing functions as arguments.\n",
    "\n",
    "Syntax: lambda arguments: expression\n",
    "\n",
    "Example:\n",
    "\"\"\"\n",
    "add = lambda x, y: x + y\n",
    "print(add(3, 4))\n",
    "\"\"\"\n",
    "9. Explain the purpose and usage of the map() function in Python.\n",
    "map() applies a function to every item in an iterable.\n",
    "\n",
    "Example:\n",
    "\"\"\"\n",
    "nums = [1, 2, 3]\n",
    "squared = map(lambda x: x**2, nums)\n",
    "print(list(squared))\n",
    "\"\"\"\n",
    "10. What is the difference between map(), reduce(), and filter() functions in Python?\n",
    "| Function   | Purpose                                   | Returns          |\n",
    "| ---------- | ----------------------------------------- | ---------------- |\n",
    "| `map()`    | Applies a function to each element        | Transformed list |\n",
    "| `filter()` | Filters elements based on a condition     | Filtered list    |\n",
    "| `reduce()` | Applies a function cumulatively to reduce | Single value     |\n",
    "\n",
    "Example:\n",
    "\"\"\"\n",
    "from functools import reduce\n",
    "\n",
    "nums = [1, 2, 3, 4]\n",
    "\n",
    "print(list(map(lambda x: x*2, nums)))       # [2, 4, 6, 8]\n",
    "print(list(filter(lambda x: x%2 == 0, nums)))  # [2, 4]\n",
    "print(reduce(lambda x, y: x + y, nums))     # 10"
   ]
  },
  {
   "attachments": {
    "d1e884b2-4e7d-4aee-8e76-48ba5e99320f.jpeg": {
     "image/jpeg": "[encoded data removed]"
    }
   },
   "cell_type": "markdown",
   "id": "6437caa8-dcbe-47c8-ba5e-664e5643146f",
   "metadata": {},
   "source": [
    "![49F1263E-D006-4AAE-A3CF-F7DC25983577.jpeg](attachment:d1e884b2-4e7d-4aee-8e76-48ba5e99320f.jpeg)"
   ]
  },
  {
   "cell_type": "raw",
   "id": "222b59fc-e897-4b73-ad81-339017a25971",
   "metadata": {},
   "source": [
    "PRACTICAL QUETIONS"
   ]
  },
  {
   "cell_type": "code",
   "execution_count": 5,
   "id": "1fc2981f-d915-4fad-a168-84a8573a0284",
   "metadata": {},
   "outputs": [
    {
     "name": "stdout",
     "output_type": "stream",
     "text": [
      "12\n"
     ]
    }
   ],
   "source": [
    "#1. Write a Python function that takes a list of numbers as input and returns the sum of all even numbers in the list.\n",
    "def sum_even_numbers(numbers):\n",
    "    return sum(num for num in numbers if num % 2 == 0)\n",
    "\n",
    "# Example\n",
    "print(sum_even_numbers([1, 2, 3, 4, 5, 6])) \n"
   ]
  },
  {
   "cell_type": "code",
   "execution_count": 6,
   "id": "254794d2-a496-4422-9bb6-681d27080dbb",
   "metadata": {},
   "outputs": [
    {
     "name": "stdout",
     "output_type": "stream",
     "text": [
      "ijneK\n"
     ]
    }
   ],
   "source": [
    "#2. Create a Python function that accepts a string and returns the reverse of that string.\n",
    "def reverse_string(s):\n",
    "    return s[::-1]\n",
    "\n",
    "# Example\n",
    "print(reverse_string(\"Kenji\"))  \n"
   ]
  },
  {
   "cell_type": "code",
   "execution_count": 7,
   "id": "5f4818ac-5091-4843-93fd-6464a0376966",
   "metadata": {},
   "outputs": [
    {
     "name": "stdout",
     "output_type": "stream",
     "text": [
      "[1, 4, 9]\n"
     ]
    }
   ],
   "source": [
    "#3. Implement a Python function that takes a list of integers and returns a new list containing the squares of each number.\n",
    "def square_list(numbers):\n",
    "    return [x**2 for x in numbers]\n",
    "\n",
    "# Example\n",
    "print(square_list([1, 2, 3])) "
   ]
  },
  {
   "cell_type": "code",
   "execution_count": 8,
   "id": "be73e4aa-9f3f-40b8-993b-da33be60a203",
   "metadata": {},
   "outputs": [
    {
     "name": "stdout",
     "output_type": "stream",
     "text": [
      "[2, 3, 5, 7, 11, 13, 17, 19, 23, 29, 31, 37, 41, 43, 47, 53, 59, 61, 67, 71, 73, 79, 83, 89, 97, 101, 103, 107, 109, 113, 127, 131, 137, 139, 149, 151, 157, 163, 167, 173, 179, 181, 191, 193, 197, 199]\n"
     ]
    }
   ],
   "source": [
    "#4. Write a Python function that checks if a given number is prime or not from 1 to 200.\n",
    "def is_prime(n):\n",
    "    if n <= 1:\n",
    "        return False\n",
    "    for i in range(2, int(n**0.5) + 1):\n",
    "        if n % i == 0:\n",
    "            return False\n",
    "    return True\n",
    "\n",
    "# Print all primes between 1 to 200\n",
    "print([n for n in range(1, 201) if is_prime(n)])\n"
   ]
  },
  {
   "cell_type": "code",
   "execution_count": 9,
   "id": "cbf30556-a8f0-45bc-8296-057bfcc1a0c6",
   "metadata": {},
   "outputs": [
    {
     "name": "stdout",
     "output_type": "stream",
     "text": [
      "0 1 1 2 3 5 8 13 21 34 "
     ]
    }
   ],
   "source": [
    "#5. Create an iterator class in Python that generates the Fibonacci sequence up to a specified number of terms\n",
    "class FibonacciIterator:\n",
    "    def __init__(self, max_terms):\n",
    "        self.max_terms = max_terms\n",
    "        self.a, self.b = 0, 1\n",
    "        self.count = 0\n",
    "\n",
    "    def __iter__(self):\n",
    "        return self\n",
    "\n",
    "    def __next__(self):\n",
    "        if self.count >= self.max_terms:\n",
    "            raise StopIteration\n",
    "        self.count += 1\n",
    "        result = self.a\n",
    "        self.a, self.b = self.b, self.a + self.b\n",
    "        return result\n",
    "\n",
    "# Example\n",
    "for num in FibonacciIterator(10):\n",
    "    print(num, end=' ')\n"
   ]
  },
  {
   "cell_type": "code",
   "execution_count": 10,
   "id": "b6406ee4-161f-430a-b348-08ffc4289479",
   "metadata": {},
   "outputs": [
    {
     "name": "stdout",
     "output_type": "stream",
     "text": [
      "[1, 2, 4, 8, 16, 32]\n"
     ]
    }
   ],
   "source": [
    "#6. Write a generator function in Python that yields the powers of 2 up to a given exponent.\n",
    "def powers_of_two(max_exp):\n",
    "    for i in range(max_exp + 1):\n",
    "        yield 2 ** i\n",
    "\n",
    "# Example\n",
    "print(list(powers_of_two(5)))  \n"
   ]
  },
  {
   "cell_type": "code",
   "execution_count": 12,
   "id": "6250f0b9-51e9-4947-a3f2-58396b373ea1",
   "metadata": {},
   "outputs": [],
   "source": [
    "#7. Implement a generator function that reads a file line by line and yields each line as a string\n",
    "def read_lines(filename):\n",
    "    with open(filename, 'r') as file:\n",
    "        for line in file:\n",
    "            yield line.strip()\n",
    "\n",
    "# Example usage:\n",
    "# for line in read_lines('example.txt'):\n",
    "#     print(line)"
   ]
  },
  {
   "cell_type": "code",
   "execution_count": 13,
   "id": "0e523f5f-4cb3-4ff8-84a9-2021a2ca4265",
   "metadata": {},
   "outputs": [
    {
     "name": "stdout",
     "output_type": "stream",
     "text": [
      "[(4, 1), (2, 2), (1, 3)]\n"
     ]
    }
   ],
   "source": [
    "#8. Use a kamibda function in Python to sort a list of tuples based on the second element of each tuple.\n",
    "data = [(1, 3), (4, 1), (2, 2)]\n",
    "sorted_data = sorted(data, key=lambda x: x[1])\n",
    "print(sorted_data) \n"
   ]
  },
  {
   "cell_type": "code",
   "execution_count": 14,
   "id": "2ee0430e-5d4e-4f4f-815d-6501c4faa1c0",
   "metadata": {},
   "outputs": [
    {
     "name": "stdout",
     "output_type": "stream",
     "text": [
      "[32.0, 50.0, 68.0, 86.0]\n"
     ]
    }
   ],
   "source": [
    "#9. Write a Python program that uses map() to convert o of temperatures from Celsius to Fahrenheit.\n",
    "celsius = [0, 10, 20, 30]\n",
    "fahrenheit = list(map(lambda c: (c * 9/5) + 32, celsius))\n",
    "print(fahrenheit) "
   ]
  },
  {
   "cell_type": "code",
   "execution_count": 15,
   "id": "06e130cc-778c-4f23-a43f-0e2ff814c65d",
   "metadata": {},
   "outputs": [
    {
     "name": "stdout",
     "output_type": "stream",
     "text": [
      "Btfl Wrld\n"
     ]
    }
   ],
   "source": [
    "#10. Create a Python program that uses 'filter() to remove all the vowels from a given string.\n",
    "def remove_vowels(s):\n",
    "    vowels = \"aeiouAEIOU\"\n",
    "    return ''.join(filter(lambda char: char not in vowels, s))\n",
    "\n",
    "# Example\n",
    "print(remove_vowels(\"Beautiful World\"))  "
   ]
  },
  {
   "cell_type": "code",
   "execution_count": 16,
   "id": "43cb97d5-f463-4ed4-b2fc-29e6ef18f1df",
   "metadata": {},
   "outputs": [
    {
     "name": "stdout",
     "output_type": "stream",
     "text": [
      "[(34587, 163.8), (98762, 284.0), (77226, 108.85), (88112, 84.97)]\n"
     ]
    }
   ],
   "source": [
    "#11. Imagine an accounting routine used in a book shop. It works on a list with sublists, which look like this:\n",
    "\"\"\"\n",
    "| Order Number | Book Title and Author                 | Quantity | Price per Item (€) |\n",
    "| ------------ | ------------------------------------- | -------- | ------------------ |\n",
    "| 34587        | Learning Python, Mark Lutz            | 4        | 40.95              |\n",
    "| 98762        | Programming Python, Mark Lutz         | 5        | 56.80              |\n",
    "| 77226        | Head First Python, Paul Barry         | 3        | 32.95              |\n",
    "| 88112        | Introduction to Python 3, Bernd Klein | 3        | 24.99              |\n",
    "\"\"\"\n",
    "#Write a Python program, which returns a list with 2-tuples. Each tuple consists of the order number and the product of the price per item and the quantity. The product should be increased by 10,- € if the value of the order is smaller than 100,00 €.\n",
    "\n",
    "#Write a Python program using lambda and map.\n",
    "orders = [\n",
    "    [34587, \"Learning Python, Mark Lutz\", 4, 40.95],\n",
    "    [98762, \"Programming Python, Mark Lutz\", 5, 56.80],\n",
    "    [77226, \"Head First Python, Paul Barry\", 3, 32.95],\n",
    "    [88112, \"Introduction to Python3, Bernd Klein\", 3, 24.99]\n",
    "]\n",
    "\n",
    "# Map with lambda to calculate order total and add €10 if < €100\n",
    "final_orders = list(map(\n",
    "    lambda order: (\n",
    "        order[0], \n",
    "        round(order[2] * order[3] + (10 if order[2]*order[3] < 100 else 0), 2)\n",
    "    ),\n",
    "    orders\n",
    "))\n",
    "\n",
    "print(final_orders)\n",
    "\n",
    "\n"
   ]
  },
  {
   "cell_type": "code",
   "execution_count": null,
   "id": "44fa896d-16a8-45e3-a881-2b72af666f61",
   "metadata": {},
   "outputs": [],
   "source": []
  }
 ],
 "metadata": {
  "kernelspec": {
   "display_name": "Python [conda env:base] *",
   "language": "python",
   "name": "conda-base-py"
  },
  "language_info": {
   "codemirror_mode": {
    "name": "ipython",
    "version": 3
   },
   "file_extension": ".py",
   "mimetype": "text/x-python",
   "name": "python",
   "nbconvert_exporter": "python",
   "pygments_lexer": "ipython3",
   "version": "3.12.7"
  }
 },
 "nbformat": 4,
 "nbformat_minor": 5
}
